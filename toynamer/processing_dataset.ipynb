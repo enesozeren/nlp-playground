{
 "cells": [
  {
   "cell_type": "markdown",
   "metadata": {},
   "source": [
    "# Process turkish_names txt file"
   ]
  },
  {
   "cell_type": "code",
   "execution_count": null,
   "metadata": {},
   "outputs": [],
   "source": [
    "# Source for the turkish_names dataset:\n",
    "# https://gist.github.com/ismailbaskin/1325813/9157dd8ced294a11218449d43bf9f772780f5d85"
   ]
  },
  {
   "cell_type": "code",
   "execution_count": 1,
   "metadata": {},
   "outputs": [
    {
     "data": {
      "text/plain": [
       "'tr_TR.UTF-8'"
      ]
     },
     "execution_count": 1,
     "metadata": {},
     "output_type": "execute_result"
    }
   ],
   "source": [
    "import locale\n",
    "\n",
    "# Set the locale to Turkish\n",
    "locale.setlocale(locale.LC_ALL, 'tr_TR.UTF-8')"
   ]
  },
  {
   "cell_type": "code",
   "execution_count": 2,
   "metadata": {},
   "outputs": [],
   "source": [
    "def extract_names():\n",
    "    names = []\n",
    "    with open('dataset/turkish_names_source.txt', 'r') as f:\n",
    "        for line in f:\n",
    "            # remove everythin other than characters and commas\n",
    "            line = ''.join([c for c in line if c.isalpha() or c == ','])\n",
    "            line = line.strip()  # remove newline character\n",
    "            elements = line.split(',')  # split line by comma\n",
    "            name = elements[1].strip().strip(\"'\")  # extract the second element and remove leading/trailing spaces and quotes\n",
    "            name = name.replace('â', 'a').replace('î', 'i').replace('û', 'u').replace('Â', 'A') # replace old turkish characters with new ones\n",
    "            names.append(name)\n",
    "    return names"
   ]
  },
  {
   "cell_type": "code",
   "execution_count": 3,
   "metadata": {},
   "outputs": [],
   "source": [
    "names = extract_names()"
   ]
  },
  {
   "cell_type": "code",
   "execution_count": 4,
   "metadata": {},
   "outputs": [
    {
     "name": "stdout",
     "output_type": "stream",
     "text": [
      "9699\n"
     ]
    }
   ],
   "source": [
    "print(len(names))"
   ]
  },
  {
   "cell_type": "code",
   "execution_count": 5,
   "metadata": {},
   "outputs": [],
   "source": [
    "def get_min_max_length(strings):\n",
    "    min_length = max_length = None\n",
    "    for string in strings:\n",
    "        length = len(string)\n",
    "        if min_length is None or length < min_length:\n",
    "            min_length = length\n",
    "            shortest_string = string\n",
    "        if max_length is None or length > max_length:\n",
    "            max_length = length\n",
    "            longest_string = string\n",
    "    return min_length, shortest_string, max_length, longest_string"
   ]
  },
  {
   "cell_type": "code",
   "execution_count": 6,
   "metadata": {},
   "outputs": [
    {
     "name": "stdout",
     "output_type": "stream",
     "text": [
      "Shortest string: Ak, Longest string: Zeynelabidin\n",
      "Min length: 2, Max length: 12\n"
     ]
    }
   ],
   "source": [
    "min_length, shortest_string, max_length, longest_string = get_min_max_length(names)\n",
    "print(f'Shortest string: {shortest_string}, Longest string: {longest_string}')\n",
    "print(f'Min length: {min_length}, Max length: {max_length}')"
   ]
  },
  {
   "cell_type": "code",
   "execution_count": 7,
   "metadata": {},
   "outputs": [],
   "source": [
    "with open('dataset/turkish_names.txt', 'w') as f:\n",
    "    for name in names:\n",
    "        f.write(name + ',')"
   ]
  },
  {
   "cell_type": "code",
   "execution_count": null,
   "metadata": {},
   "outputs": [],
   "source": []
  }
 ],
 "metadata": {
  "kernelspec": {
   "display_name": "deeplearning",
   "language": "python",
   "name": "python3"
  },
  "language_info": {
   "codemirror_mode": {
    "name": "ipython",
    "version": 3
   },
   "file_extension": ".py",
   "mimetype": "text/x-python",
   "name": "python",
   "nbconvert_exporter": "python",
   "pygments_lexer": "ipython3",
   "version": "3.11.4"
  }
 },
 "nbformat": 4,
 "nbformat_minor": 2
}
