{
 "cells": [
  {
   "cell_type": "markdown",
   "metadata": {},
   "source": [
    "# Libraries"
   ]
  },
  {
   "cell_type": "code",
   "execution_count": 11,
   "metadata": {},
   "outputs": [],
   "source": [
    "import torch\n",
    "import random\n",
    "from tqdm import tqdm\n",
    "import matplotlib.pyplot as plt\n",
    "import numpy as np\n",
    "\n",
    "from vanilla_rnn import RNN"
   ]
  },
  {
   "cell_type": "markdown",
   "metadata": {},
   "source": [
    "# Prepare the Dataset"
   ]
  },
  {
   "cell_type": "code",
   "execution_count": 2,
   "metadata": {},
   "outputs": [],
   "source": [
    "# Import the variables and functions from the other files\n",
    "from static_variables import turkish_chars, VOCAB_SIZE, char_to_int, int_to_char\n",
    "from utils import char_to_onehot, onehot_to_char"
   ]
  },
  {
   "cell_type": "code",
   "execution_count": 2,
   "metadata": {},
   "outputs": [],
   "source": [
    "# read the txt file dataset/turkish_names_female.txt as a string\n",
    "with open('dataset/turkish_names.txt', 'r') as file:\n",
    "    # split the string by comma and create a list of names\n",
    "    turkish_names = file.read().split(',')\n",
    "    turkish_names.remove('')"
   ]
  },
  {
   "cell_type": "code",
   "execution_count": 3,
   "metadata": {},
   "outputs": [
    {
     "name": "stdout",
     "output_type": "stream",
     "text": [
      "['Aba', 'Abaca', 'Abacan']\n",
      "9699\n"
     ]
    }
   ],
   "source": [
    "print(turkish_names[:3])\n",
    "print(len(turkish_names))"
   ]
  },
  {
   "cell_type": "code",
   "execution_count": 4,
   "metadata": {},
   "outputs": [
    {
     "name": "stdout",
     "output_type": "stream",
     "text": [
      "2\n",
      "12\n"
     ]
    }
   ],
   "source": [
    "print(min(len(name) for name in turkish_names))\n",
    "print(max(len(name) for name in turkish_names))"
   ]
  },
  {
   "cell_type": "code",
   "execution_count": 3,
   "metadata": {},
   "outputs": [
    {
     "data": {
      "text/plain": [
       "'ABCÇDEFGĞHIİJKLMNOÖPRSŞTUÜVYZabcçdefgğhıijklmnoöprsştuüvyz'"
      ]
     },
     "execution_count": 3,
     "metadata": {},
     "output_type": "execute_result"
    }
   ],
   "source": [
    "turkish_chars"
   ]
  },
  {
   "cell_type": "code",
   "execution_count": 4,
   "metadata": {},
   "outputs": [
    {
     "data": {
      "text/plain": [
       "60"
      ]
     },
     "execution_count": 4,
     "metadata": {},
     "output_type": "execute_result"
    }
   ],
   "source": [
    "VOCAB_SIZE"
   ]
  },
  {
   "cell_type": "code",
   "execution_count": 5,
   "metadata": {},
   "outputs": [
    {
     "name": "stdout",
     "output_type": "stream",
     "text": [
      "{'A': 0, 'B': 1, 'C': 2, 'Ç': 3, 'D': 4, 'E': 5, 'F': 6, 'G': 7, 'Ğ': 8, 'H': 9, 'I': 10, 'İ': 11, 'J': 12, 'K': 13, 'L': 14, 'M': 15, 'N': 16, 'O': 17, 'Ö': 18, 'P': 19, 'R': 20, 'S': 21, 'Ş': 22, 'T': 23, 'U': 24, 'Ü': 25, 'V': 26, 'Y': 27, 'Z': 28, 'a': 29, 'b': 30, 'c': 31, 'ç': 32, 'd': 33, 'e': 34, 'f': 35, 'g': 36, 'ğ': 37, 'h': 38, 'ı': 39, 'i': 40, 'j': 41, 'k': 42, 'l': 43, 'm': 44, 'n': 45, 'o': 46, 'ö': 47, 'p': 48, 'r': 49, 's': 50, 'ş': 51, 't': 52, 'u': 53, 'ü': 54, 'v': 55, 'y': 56, 'z': 57, '<S>': 58, '<E>': 59}\n",
      "{0: 'A', 1: 'B', 2: 'C', 3: 'Ç', 4: 'D', 5: 'E', 6: 'F', 7: 'G', 8: 'Ğ', 9: 'H', 10: 'I', 11: 'İ', 12: 'J', 13: 'K', 14: 'L', 15: 'M', 16: 'N', 17: 'O', 18: 'Ö', 19: 'P', 20: 'R', 21: 'S', 22: 'Ş', 23: 'T', 24: 'U', 25: 'Ü', 26: 'V', 27: 'Y', 28: 'Z', 29: 'a', 30: 'b', 31: 'c', 32: 'ç', 33: 'd', 34: 'e', 35: 'f', 36: 'g', 37: 'ğ', 38: 'h', 39: 'ı', 40: 'i', 41: 'j', 42: 'k', 43: 'l', 44: 'm', 45: 'n', 46: 'o', 47: 'ö', 48: 'p', 49: 'r', 50: 's', 51: 'ş', 52: 't', 53: 'u', 54: 'ü', 55: 'v', 56: 'y', 57: 'z', 58: '<S>', 59: '<E>'}\n"
     ]
    }
   ],
   "source": [
    "# Create a dictionary that maps chars to integers and integers to chars\n",
    "print(char_to_int)\n",
    "print(int_to_char)"
   ]
  },
  {
   "cell_type": "code",
   "execution_count": 6,
   "metadata": {},
   "outputs": [
    {
     "data": {
      "text/plain": [
       "tensor([[0., 1., 0., 0., 0., 0., 0., 0., 0., 0., 0., 0., 0., 0., 0., 0., 0., 0.,\n",
       "         0., 0., 0., 0., 0., 0., 0., 0., 0., 0., 0., 0., 0., 0., 0., 0., 0., 0.,\n",
       "         0., 0., 0., 0., 0., 0., 0., 0., 0., 0., 0., 0., 0., 0., 0., 0., 0., 0.,\n",
       "         0., 0., 0., 0., 0., 0.]])"
      ]
     },
     "execution_count": 6,
     "metadata": {},
     "output_type": "execute_result"
    }
   ],
   "source": [
    "char_to_onehot('B')"
   ]
  },
  {
   "cell_type": "code",
   "execution_count": 7,
   "metadata": {},
   "outputs": [
    {
     "data": {
      "text/plain": [
       "'B'"
      ]
     },
     "execution_count": 7,
     "metadata": {},
     "output_type": "execute_result"
    }
   ],
   "source": [
    "onehot_to_char(char_to_onehot('B'))"
   ]
  },
  {
   "cell_type": "code",
   "execution_count": 11,
   "metadata": {},
   "outputs": [],
   "source": [
    "# Create train dataset for predicting the next character\n",
    "dataset = []\n",
    "for name in turkish_names:\n",
    "    name_char_list = list(['<S>']) + list(name) + list(['<E>'])\n",
    "    for i in range(1, len(name_char_list)):\n",
    "        input = [char for char in name_char_list[:i]]\n",
    "        output = [name_char_list[i]]\n",
    "        dataset.append((input, output))"
   ]
  },
  {
   "cell_type": "code",
   "execution_count": 12,
   "metadata": {},
   "outputs": [
    {
     "data": {
      "text/plain": [
       "69033"
      ]
     },
     "execution_count": 12,
     "metadata": {},
     "output_type": "execute_result"
    }
   ],
   "source": [
    "len(dataset)"
   ]
  },
  {
   "cell_type": "code",
   "execution_count": 13,
   "metadata": {},
   "outputs": [
    {
     "data": {
      "text/plain": [
       "[(['<S>'], ['A']),\n",
       " (['<S>', 'A'], ['b']),\n",
       " (['<S>', 'A', 'b'], ['a']),\n",
       " (['<S>', 'A', 'b', 'a'], ['<E>']),\n",
       " (['<S>'], ['A']),\n",
       " (['<S>', 'A'], ['b']),\n",
       " (['<S>', 'A', 'b'], ['a']),\n",
       " (['<S>', 'A', 'b', 'a'], ['c']),\n",
       " (['<S>', 'A', 'b', 'a', 'c'], ['a']),\n",
       " (['<S>', 'A', 'b', 'a', 'c', 'a'], ['<E>'])]"
      ]
     },
     "execution_count": 13,
     "metadata": {},
     "output_type": "execute_result"
    }
   ],
   "source": [
    "dataset[:10]"
   ]
  },
  {
   "cell_type": "markdown",
   "metadata": {},
   "source": [
    "# Train Test Split"
   ]
  },
  {
   "cell_type": "code",
   "execution_count": 14,
   "metadata": {},
   "outputs": [],
   "source": [
    "random.shuffle(dataset)\n",
    "train_dataset = dataset[:int(len(dataset) * 0.8)]\n",
    "validation_dataset = dataset[int(len(dataset) * 0.8):]"
   ]
  },
  {
   "cell_type": "code",
   "execution_count": 15,
   "metadata": {},
   "outputs": [
    {
     "data": {
      "text/plain": [
       "(55226, 13807)"
      ]
     },
     "execution_count": 15,
     "metadata": {},
     "output_type": "execute_result"
    }
   ],
   "source": [
    "len(train_dataset), len(validation_dataset)"
   ]
  },
  {
   "cell_type": "code",
   "execution_count": 16,
   "metadata": {},
   "outputs": [
    {
     "data": {
      "text/plain": [
       "[(['<S>', 'A', 'k', 'y'], ['i']),\n",
       " (['<S>'], ['A']),\n",
       " (['<S>', 'Ü', 't'], ['ü']),\n",
       " (['<S>', 'A', 'y'], ['e']),\n",
       " (['<S>', 'G', 'ü'], ['n']),\n",
       " (['<S>', 'Ö'], ['n']),\n",
       " (['<S>', 'K', 'ı'], ['z']),\n",
       " (['<S>'], ['R']),\n",
       " (['<S>'], ['T']),\n",
       " (['<S>', 'S', 'ı', 'y', 'l', 'ı', 'k'], ['ı'])]"
      ]
     },
     "execution_count": 16,
     "metadata": {},
     "output_type": "execute_result"
    }
   ],
   "source": [
    "train_dataset[:10]"
   ]
  },
  {
   "cell_type": "markdown",
   "metadata": {},
   "source": [
    "# Training"
   ]
  },
  {
   "cell_type": "code",
   "execution_count": 5,
   "metadata": {},
   "outputs": [],
   "source": [
    "# Create the name generator model\n",
    "name_generator = RNN(input_size=VOCAB_SIZE, hidden_size=32, output_size=VOCAB_SIZE)"
   ]
  },
  {
   "cell_type": "code",
   "execution_count": 6,
   "metadata": {},
   "outputs": [
    {
     "data": {
      "text/plain": [
       "RNN(\n",
       "  (i2h): Linear(in_features=92, out_features=32, bias=True)\n",
       "  (i2o): Linear(in_features=32, out_features=60, bias=True)\n",
       "  (tanh): Tanh()\n",
       ")"
      ]
     },
     "execution_count": 6,
     "metadata": {},
     "output_type": "execute_result"
    }
   ],
   "source": [
    "name_generator"
   ]
  },
  {
   "cell_type": "code",
   "execution_count": 8,
   "metadata": {},
   "outputs": [
    {
     "data": {
      "text/plain": [
       "4956"
      ]
     },
     "execution_count": 8,
     "metadata": {},
     "output_type": "execute_result"
    }
   ],
   "source": [
    "# Check the number of parameters in the model\n",
    "# Should be equal to 92*32 + 32 + 32*60 + 60 = 4956\n",
    "sum(p.numel() for p in name_generator.parameters() if p.requires_grad)"
   ]
  },
  {
   "cell_type": "code",
   "execution_count": 24,
   "metadata": {},
   "outputs": [],
   "source": [
    "loss_fn = torch.nn.CrossEntropyLoss()\n",
    "optimizer = torch.optim.Adam(name_generator.parameters(), lr=0.0001)"
   ]
  },
  {
   "cell_type": "code",
   "execution_count": 25,
   "metadata": {},
   "outputs": [
    {
     "name": "stderr",
     "output_type": "stream",
     "text": [
      "100%|██████████| 55226/55226 [00:48<00:00, 1140.74it/s]\n"
     ]
    },
    {
     "name": "stdout",
     "output_type": "stream",
     "text": [
      "Epoch 0 - Train Loss: 2.800434034468697 | Validation Loss: 2.5394477526939707\n"
     ]
    },
    {
     "name": "stderr",
     "output_type": "stream",
     "text": [
      "100%|██████████| 55226/55226 [00:46<00:00, 1191.15it/s]\n"
     ]
    },
    {
     "name": "stdout",
     "output_type": "stream",
     "text": [
      "Epoch 1 - Train Loss: 2.4555649142026335 | Validation Loss: 2.389895345271821\n"
     ]
    },
    {
     "name": "stderr",
     "output_type": "stream",
     "text": [
      "100%|██████████| 55226/55226 [00:52<00:00, 1059.02it/s]\n"
     ]
    },
    {
     "name": "stdout",
     "output_type": "stream",
     "text": [
      "Epoch 2 - Train Loss: 2.3571518038914574 | Validation Loss: 2.328321573244165\n"
     ]
    },
    {
     "name": "stderr",
     "output_type": "stream",
     "text": [
      "100%|██████████| 55226/55226 [00:49<00:00, 1119.32it/s]\n"
     ]
    },
    {
     "name": "stdout",
     "output_type": "stream",
     "text": [
      "Epoch 3 - Train Loss: 2.3062084934104914 | Validation Loss: 2.2882893225606447\n"
     ]
    },
    {
     "name": "stderr",
     "output_type": "stream",
     "text": [
      "100%|██████████| 55226/55226 [00:47<00:00, 1168.49it/s]\n"
     ]
    },
    {
     "name": "stdout",
     "output_type": "stream",
     "text": [
      "Epoch 4 - Train Loss: 2.270452709994557 | Validation Loss: 2.2592703712946425\n"
     ]
    },
    {
     "name": "stderr",
     "output_type": "stream",
     "text": [
      "100%|██████████| 55226/55226 [00:46<00:00, 1182.24it/s]\n"
     ]
    },
    {
     "name": "stdout",
     "output_type": "stream",
     "text": [
      "Epoch 5 - Train Loss: 2.244748570840098 | Validation Loss: 2.2388800387159113\n"
     ]
    },
    {
     "name": "stderr",
     "output_type": "stream",
     "text": [
      "100%|██████████| 55226/55226 [00:47<00:00, 1169.06it/s]\n"
     ]
    },
    {
     "name": "stdout",
     "output_type": "stream",
     "text": [
      "Epoch 6 - Train Loss: 2.2249859384798456 | Validation Loss: 2.2223553287818194\n"
     ]
    },
    {
     "name": "stderr",
     "output_type": "stream",
     "text": [
      "100%|██████████| 55226/55226 [00:48<00:00, 1137.74it/s]\n"
     ]
    },
    {
     "name": "stdout",
     "output_type": "stream",
     "text": [
      "Epoch 7 - Train Loss: 2.2082150478786313 | Validation Loss: 2.208810341115651\n"
     ]
    },
    {
     "name": "stderr",
     "output_type": "stream",
     "text": [
      "100%|██████████| 55226/55226 [00:47<00:00, 1164.78it/s]\n"
     ]
    },
    {
     "name": "stdout",
     "output_type": "stream",
     "text": [
      "Epoch 8 - Train Loss: 2.1942572000346128 | Validation Loss: 2.1976175485364324\n"
     ]
    },
    {
     "name": "stderr",
     "output_type": "stream",
     "text": [
      "100%|██████████| 55226/55226 [00:47<00:00, 1169.44it/s]\n"
     ]
    },
    {
     "name": "stdout",
     "output_type": "stream",
     "text": [
      "Epoch 9 - Train Loss: 2.1822717641281106 | Validation Loss: 2.188255127746888\n"
     ]
    },
    {
     "name": "stderr",
     "output_type": "stream",
     "text": [
      "100%|██████████| 55226/55226 [00:46<00:00, 1177.57it/s]\n"
     ]
    },
    {
     "name": "stdout",
     "output_type": "stream",
     "text": [
      "Epoch 10 - Train Loss: 2.171831992792205 | Validation Loss: 2.1802877555610407\n"
     ]
    },
    {
     "name": "stderr",
     "output_type": "stream",
     "text": [
      "100%|██████████| 55226/55226 [00:49<00:00, 1114.56it/s]\n"
     ]
    },
    {
     "name": "stdout",
     "output_type": "stream",
     "text": [
      "Epoch 11 - Train Loss: 2.16249853421307 | Validation Loss: 2.1730093276259708\n"
     ]
    },
    {
     "name": "stderr",
     "output_type": "stream",
     "text": [
      "100%|██████████| 55226/55226 [00:46<00:00, 1178.58it/s]\n"
     ]
    },
    {
     "name": "stdout",
     "output_type": "stream",
     "text": [
      "Epoch 12 - Train Loss: 2.153686543164486 | Validation Loss: 2.1670164231174116\n"
     ]
    },
    {
     "name": "stderr",
     "output_type": "stream",
     "text": [
      "100%|██████████| 55226/55226 [00:47<00:00, 1169.65it/s]\n"
     ]
    },
    {
     "name": "stdout",
     "output_type": "stream",
     "text": [
      "Epoch 13 - Train Loss: 2.146611919991409 | Validation Loss: 2.162116879354813\n"
     ]
    },
    {
     "name": "stderr",
     "output_type": "stream",
     "text": [
      "100%|██████████| 55226/55226 [00:47<00:00, 1162.22it/s]\n"
     ]
    },
    {
     "name": "stdout",
     "output_type": "stream",
     "text": [
      "Epoch 14 - Train Loss: 2.14038384947827 | Validation Loss: 2.1578311747173538\n"
     ]
    },
    {
     "name": "stderr",
     "output_type": "stream",
     "text": [
      "100%|██████████| 55226/55226 [00:48<00:00, 1132.43it/s]\n"
     ]
    },
    {
     "name": "stdout",
     "output_type": "stream",
     "text": [
      "Epoch 15 - Train Loss: 2.1347656145593756 | Validation Loss: 2.1539874136585646\n"
     ]
    },
    {
     "name": "stderr",
     "output_type": "stream",
     "text": [
      "100%|██████████| 55226/55226 [00:46<00:00, 1175.91it/s]\n"
     ]
    },
    {
     "name": "stdout",
     "output_type": "stream",
     "text": [
      "Epoch 16 - Train Loss: 2.129621151465796 | Validation Loss: 2.1505402931402564\n"
     ]
    },
    {
     "name": "stderr",
     "output_type": "stream",
     "text": [
      "100%|██████████| 55226/55226 [00:47<00:00, 1163.62it/s]\n"
     ]
    },
    {
     "name": "stdout",
     "output_type": "stream",
     "text": [
      "Epoch 17 - Train Loss: 2.1248852245750305 | Validation Loss: 2.1474178741155394\n"
     ]
    },
    {
     "name": "stderr",
     "output_type": "stream",
     "text": [
      "100%|██████████| 55226/55226 [00:49<00:00, 1126.95it/s]\n"
     ]
    },
    {
     "name": "stdout",
     "output_type": "stream",
     "text": [
      "Epoch 18 - Train Loss: 2.120609659546894 | Validation Loss: 2.144676586903916\n"
     ]
    },
    {
     "name": "stderr",
     "output_type": "stream",
     "text": [
      "100%|██████████| 55226/55226 [00:47<00:00, 1174.06it/s]\n"
     ]
    },
    {
     "name": "stdout",
     "output_type": "stream",
     "text": [
      "Epoch 19 - Train Loss: 2.116674950916669 | Validation Loss: 2.1421683377629406\n"
     ]
    },
    {
     "name": "stderr",
     "output_type": "stream",
     "text": [
      "100%|██████████| 55226/55226 [00:46<00:00, 1175.87it/s]\n"
     ]
    },
    {
     "name": "stdout",
     "output_type": "stream",
     "text": [
      "Epoch 20 - Train Loss: 2.1130102162464874 | Validation Loss: 2.1398615150870204\n"
     ]
    },
    {
     "name": "stderr",
     "output_type": "stream",
     "text": [
      "100%|██████████| 55226/55226 [00:47<00:00, 1169.07it/s]\n"
     ]
    },
    {
     "name": "stdout",
     "output_type": "stream",
     "text": [
      "Epoch 21 - Train Loss: 2.109581790835428 | Validation Loss: 2.137726200201514\n"
     ]
    },
    {
     "name": "stderr",
     "output_type": "stream",
     "text": [
      "100%|██████████| 55226/55226 [00:47<00:00, 1159.04it/s]\n"
     ]
    },
    {
     "name": "stdout",
     "output_type": "stream",
     "text": [
      "Epoch 22 - Train Loss: 2.1063274428241088 | Validation Loss: 2.1357059251117603\n"
     ]
    },
    {
     "name": "stderr",
     "output_type": "stream",
     "text": [
      "100%|██████████| 55226/55226 [00:46<00:00, 1178.98it/s]\n"
     ]
    },
    {
     "name": "stdout",
     "output_type": "stream",
     "text": [
      "Epoch 23 - Train Loss: 2.1032113079440586 | Validation Loss: 2.1337748180561946\n"
     ]
    },
    {
     "name": "stderr",
     "output_type": "stream",
     "text": [
      "100%|██████████| 55226/55226 [00:48<00:00, 1149.08it/s]\n"
     ]
    },
    {
     "name": "stdout",
     "output_type": "stream",
     "text": [
      "Epoch 24 - Train Loss: 2.1002108057733055 | Validation Loss: 2.1319199902055206\n"
     ]
    },
    {
     "name": "stderr",
     "output_type": "stream",
     "text": [
      "100%|██████████| 55226/55226 [00:48<00:00, 1138.21it/s]\n"
     ]
    },
    {
     "name": "stdout",
     "output_type": "stream",
     "text": [
      "Epoch 25 - Train Loss: 2.0973066424490523 | Validation Loss: 2.130128538763504\n"
     ]
    },
    {
     "name": "stderr",
     "output_type": "stream",
     "text": [
      "100%|██████████| 55226/55226 [00:47<00:00, 1162.18it/s]\n"
     ]
    },
    {
     "name": "stdout",
     "output_type": "stream",
     "text": [
      "Epoch 26 - Train Loss: 2.0944441324327223 | Validation Loss: 2.128316831906172\n"
     ]
    },
    {
     "name": "stderr",
     "output_type": "stream",
     "text": [
      "100%|██████████| 55226/55226 [00:48<00:00, 1148.48it/s]\n"
     ]
    },
    {
     "name": "stdout",
     "output_type": "stream",
     "text": [
      "Epoch 27 - Train Loss: 2.091604994342525 | Validation Loss: 2.1266771651968157\n"
     ]
    },
    {
     "name": "stderr",
     "output_type": "stream",
     "text": [
      "100%|██████████| 55226/55226 [00:48<00:00, 1146.54it/s]\n"
     ]
    },
    {
     "name": "stdout",
     "output_type": "stream",
     "text": [
      "Epoch 28 - Train Loss: 2.088984887671456 | Validation Loss: 2.1251104186897303\n"
     ]
    },
    {
     "name": "stderr",
     "output_type": "stream",
     "text": [
      "100%|██████████| 55226/55226 [00:47<00:00, 1158.66it/s]\n"
     ]
    },
    {
     "name": "stdout",
     "output_type": "stream",
     "text": [
      "Epoch 29 - Train Loss: 2.0864172552522073 | Validation Loss: 2.1235100663648656\n"
     ]
    }
   ],
   "source": [
    "num_epochs = 30\n",
    "\n",
    "train_loss_logs = []\n",
    "validation_loss_logs = []\n",
    "for epoch in range(num_epochs):\n",
    "    train_loss = 0\n",
    "    for input_seq, target in tqdm(train_dataset):\n",
    "        hidden = name_generator.initHidden()\n",
    "\n",
    "        for char in input_seq:\n",
    "            input_tensor = char_to_onehot(char)\n",
    "            output, hidden = name_generator(input_tensor, hidden)\n",
    "        \n",
    "        output_tensor = char_to_onehot(target[0])\n",
    "\n",
    "        optimizer.zero_grad()\n",
    "        loss = loss_fn(output, output_tensor)\n",
    "        loss.backward()\n",
    "        optimizer.step()\n",
    "\n",
    "        train_loss += loss.item()\n",
    "    \n",
    "    train_loss /= len(train_dataset)\n",
    "    train_loss_logs.append(train_loss)\n",
    "\n",
    "    name_generator.eval()\n",
    "    validation_loss = 0\n",
    "    with torch.no_grad():\n",
    "        for input_seq, target in validation_dataset:\n",
    "            hidden = name_generator.initHidden()\n",
    "\n",
    "            for char in input_seq:\n",
    "                input_tensor = char_to_onehot(char)\n",
    "                output, hidden = name_generator(input_tensor, hidden)\n",
    "            \n",
    "            output_tensor = char_to_onehot(target[0])\n",
    "\n",
    "            loss = loss_fn(output, output_tensor)\n",
    "            validation_loss += loss.item()\n",
    "        \n",
    "    validation_loss /= len(validation_dataset)\n",
    "    validation_loss_logs.append(validation_loss)\n",
    "\n",
    "    print(f'Epoch {epoch} - Train Loss: {train_loss} | Validation Loss: {validation_loss}')"
   ]
  },
  {
   "cell_type": "code",
   "execution_count": 86,
   "metadata": {},
   "outputs": [
    {
     "name": "stderr",
     "output_type": "stream",
     "text": [
      "100%|██████████| 55226/55226 [00:45<00:00, 1215.56it/s]\n"
     ]
    },
    {
     "name": "stdout",
     "output_type": "stream",
     "text": [
      "Epoch 30 - Train Loss: 2.083955125021302 | Validation Loss: 2.122148131438339\n"
     ]
    },
    {
     "name": "stderr",
     "output_type": "stream",
     "text": [
      "100%|██████████| 55226/55226 [00:46<00:00, 1188.90it/s]\n"
     ]
    },
    {
     "name": "stdout",
     "output_type": "stream",
     "text": [
      "Epoch 31 - Train Loss: 2.081701072383775 | Validation Loss: 2.120925845539123\n"
     ]
    },
    {
     "name": "stderr",
     "output_type": "stream",
     "text": [
      "100%|██████████| 55226/55226 [00:45<00:00, 1215.59it/s]\n"
     ]
    },
    {
     "name": "stdout",
     "output_type": "stream",
     "text": [
      "Epoch 32 - Train Loss: 2.07955305276254 | Validation Loss: 2.1197994421874657\n"
     ]
    },
    {
     "name": "stderr",
     "output_type": "stream",
     "text": [
      "100%|██████████| 55226/55226 [00:45<00:00, 1219.16it/s]\n"
     ]
    },
    {
     "name": "stdout",
     "output_type": "stream",
     "text": [
      "Epoch 33 - Train Loss: 2.077485262567302 | Validation Loss: 2.1187519351631376\n"
     ]
    },
    {
     "name": "stderr",
     "output_type": "stream",
     "text": [
      "100%|██████████| 55226/55226 [00:45<00:00, 1225.49it/s]\n"
     ]
    },
    {
     "name": "stdout",
     "output_type": "stream",
     "text": [
      "Epoch 34 - Train Loss: 2.0754947305172773 | Validation Loss: 2.1177785723287554\n"
     ]
    },
    {
     "name": "stderr",
     "output_type": "stream",
     "text": [
      "100%|██████████| 55226/55226 [00:45<00:00, 1217.83it/s]\n"
     ]
    },
    {
     "name": "stdout",
     "output_type": "stream",
     "text": [
      "Epoch 35 - Train Loss: 2.073586748889085 | Validation Loss: 2.1168699060909923\n"
     ]
    },
    {
     "name": "stderr",
     "output_type": "stream",
     "text": [
      "100%|██████████| 55226/55226 [00:46<00:00, 1199.17it/s]\n"
     ]
    },
    {
     "name": "stdout",
     "output_type": "stream",
     "text": [
      "Epoch 36 - Train Loss: 2.07175566056429 | Validation Loss: 2.116013075312137\n"
     ]
    },
    {
     "name": "stderr",
     "output_type": "stream",
     "text": [
      "100%|██████████| 55226/55226 [00:49<00:00, 1107.90it/s]\n"
     ]
    },
    {
     "name": "stdout",
     "output_type": "stream",
     "text": [
      "Epoch 37 - Train Loss: 2.0699916605550652 | Validation Loss: 2.1151980307415448\n"
     ]
    },
    {
     "name": "stderr",
     "output_type": "stream",
     "text": [
      "100%|██████████| 55226/55226 [00:47<00:00, 1168.07it/s]\n"
     ]
    },
    {
     "name": "stdout",
     "output_type": "stream",
     "text": [
      "Epoch 38 - Train Loss: 2.0682815802222705 | Validation Loss: 2.11441043714296\n"
     ]
    },
    {
     "name": "stderr",
     "output_type": "stream",
     "text": [
      "100%|██████████| 55226/55226 [00:47<00:00, 1173.71it/s]\n"
     ]
    },
    {
     "name": "stdout",
     "output_type": "stream",
     "text": [
      "Epoch 39 - Train Loss: 2.0666326906731243 | Validation Loss: 2.1136739102384867\n"
     ]
    },
    {
     "name": "stderr",
     "output_type": "stream",
     "text": [
      "100%|██████████| 55226/55226 [00:48<00:00, 1147.46it/s]\n"
     ]
    },
    {
     "name": "stdout",
     "output_type": "stream",
     "text": [
      "Epoch 40 - Train Loss: 2.065057124210178 | Validation Loss: 2.1129685845904964\n"
     ]
    },
    {
     "name": "stderr",
     "output_type": "stream",
     "text": [
      "100%|██████████| 55226/55226 [00:47<00:00, 1169.33it/s]\n"
     ]
    },
    {
     "name": "stdout",
     "output_type": "stream",
     "text": [
      "Epoch 41 - Train Loss: 2.0635340911448066 | Validation Loss: 2.1122856244474257\n"
     ]
    },
    {
     "name": "stderr",
     "output_type": "stream",
     "text": [
      "100%|██████████| 55226/55226 [00:51<00:00, 1079.73it/s]\n"
     ]
    },
    {
     "name": "stdout",
     "output_type": "stream",
     "text": [
      "Epoch 42 - Train Loss: 2.062058298963311 | Validation Loss: 2.111626149905748\n"
     ]
    },
    {
     "name": "stderr",
     "output_type": "stream",
     "text": [
      "100%|██████████| 55226/55226 [00:48<00:00, 1149.54it/s]\n"
     ]
    },
    {
     "name": "stdout",
     "output_type": "stream",
     "text": [
      "Epoch 43 - Train Loss: 2.0606348286673417 | Validation Loss: 2.110996355222228\n"
     ]
    },
    {
     "name": "stderr",
     "output_type": "stream",
     "text": [
      "100%|██████████| 55226/55226 [00:49<00:00, 1119.75it/s]\n"
     ]
    },
    {
     "name": "stdout",
     "output_type": "stream",
     "text": [
      "Epoch 44 - Train Loss: 2.059248895915203 | Validation Loss: 2.110387029819298\n"
     ]
    },
    {
     "name": "stderr",
     "output_type": "stream",
     "text": [
      "100%|██████████| 55226/55226 [00:47<00:00, 1153.92it/s]\n"
     ]
    },
    {
     "name": "stdout",
     "output_type": "stream",
     "text": [
      "Epoch 45 - Train Loss: 2.057894879399217 | Validation Loss: 2.1097947595338287\n"
     ]
    },
    {
     "name": "stderr",
     "output_type": "stream",
     "text": [
      "100%|██████████| 55226/55226 [00:47<00:00, 1154.81it/s]\n"
     ]
    },
    {
     "name": "stdout",
     "output_type": "stream",
     "text": [
      "Epoch 46 - Train Loss: 2.0565706783420805 | Validation Loss: 2.1092174566104203\n"
     ]
    },
    {
     "name": "stderr",
     "output_type": "stream",
     "text": [
      "100%|██████████| 55226/55226 [00:47<00:00, 1155.35it/s]\n"
     ]
    },
    {
     "name": "stdout",
     "output_type": "stream",
     "text": [
      "Epoch 47 - Train Loss: 2.0552743954953203 | Validation Loss: 2.1086544269738576\n"
     ]
    },
    {
     "name": "stderr",
     "output_type": "stream",
     "text": [
      "100%|██████████| 55226/55226 [00:46<00:00, 1176.07it/s]\n"
     ]
    },
    {
     "name": "stdout",
     "output_type": "stream",
     "text": [
      "Epoch 48 - Train Loss: 2.0540048561771655 | Validation Loss: 2.1081059652657137\n"
     ]
    },
    {
     "name": "stderr",
     "output_type": "stream",
     "text": [
      "100%|██████████| 55226/55226 [00:48<00:00, 1140.86it/s]\n"
     ]
    },
    {
     "name": "stdout",
     "output_type": "stream",
     "text": [
      "Epoch 49 - Train Loss: 2.0527613365227273 | Validation Loss: 2.107573505877389\n"
     ]
    }
   ],
   "source": [
    "num_extra_epochs = 20\n",
    "\n",
    "for epoch in range(num_epochs, num_epochs+num_extra_epochs):\n",
    "    train_loss = 0\n",
    "    for input_seq, target in tqdm(train_dataset):\n",
    "        hidden = name_generator.initHidden()\n",
    "\n",
    "        for char in input_seq:\n",
    "            input_tensor = char_to_onehot(char)\n",
    "            output, hidden = name_generator(input_tensor, hidden)\n",
    "        \n",
    "        output_tensor = char_to_onehot(target[0])\n",
    "\n",
    "        optimizer.zero_grad()\n",
    "        loss = loss_fn(output, output_tensor)\n",
    "        loss.backward()\n",
    "        optimizer.step()\n",
    "\n",
    "        train_loss += loss.item()\n",
    "    \n",
    "    train_loss /= len(train_dataset)\n",
    "    train_loss_logs.append(train_loss)\n",
    "\n",
    "    name_generator.eval()\n",
    "    validation_loss = 0\n",
    "    with torch.no_grad():\n",
    "        for input_seq, target in validation_dataset:\n",
    "            hidden = name_generator.initHidden()\n",
    "\n",
    "            for char in input_seq:\n",
    "                input_tensor = char_to_onehot(char)\n",
    "                output, hidden = name_generator(input_tensor, hidden)\n",
    "            \n",
    "            output_tensor = char_to_onehot(target[0])\n",
    "\n",
    "            loss = loss_fn(output, output_tensor)\n",
    "            validation_loss += loss.item()\n",
    "        \n",
    "    validation_loss /= len(validation_dataset)\n",
    "    validation_loss_logs.append(validation_loss)\n",
    "\n",
    "    print(f'Epoch {epoch} - Train Loss: {train_loss} | Validation Loss: {validation_loss}')"
   ]
  },
  {
   "cell_type": "code",
   "execution_count": 87,
   "metadata": {},
   "outputs": [
    {
     "data": {
      "image/png": "[encoded data removed]",
      "text/plain": [
       "<Figure size 640x480 with 1 Axes>"
      ]
     },
     "metadata": {},
     "output_type": "display_data"
    }
   ],
   "source": [
    "plt.plot(train_loss_logs, color='red', label='train_loss')\n",
    "plt.plot(validation_loss_logs, color='blue', label='validation_loss')\n",
    "\n",
    "plt.title(\"Loss Plot\")\n",
    "plt.xlabel(\"Epoch\")\n",
    "plt.ylabel(\"Cross Entropy\")\n",
    "plt.legend()\n",
    "plt.show()"
   ]
  },
  {
   "cell_type": "markdown",
   "metadata": {},
   "source": [
    "# Inference"
   ]
  },
  {
   "cell_type": "code",
   "execution_count": 8,
   "metadata": {},
   "outputs": [],
   "source": [
    "from utils import generate_name"
   ]
  },
  {
   "cell_type": "code",
   "execution_count": 161,
   "metadata": {},
   "outputs": [
    {
     "data": {
      "text/plain": [
       "'Barkan'"
      ]
     },
     "execution_count": 161,
     "metadata": {},
     "output_type": "execute_result"
    }
   ],
   "source": [
    "generate_name(name_generator, temperature=0.5)"
   ]
  },
  {
   "cell_type": "markdown",
   "metadata": {},
   "source": [
    "# Save the model"
   ]
  },
  {
   "cell_type": "code",
   "execution_count": null,
   "metadata": {},
   "outputs": [],
   "source": [
    "# Save the pytorch rnn model\n",
    "torch.save(name_generator, 'rnn_turkish_name_generator.pth')"
   ]
  },
  {
   "cell_type": "code",
   "execution_count": 12,
   "metadata": {},
   "outputs": [],
   "source": [
    "rnn_turkish_name_generator = torch.load('rnn_turkish_name_generator.pth')"
   ]
  },
  {
   "cell_type": "code",
   "execution_count": 14,
   "metadata": {},
   "outputs": [
    {
     "name": "stdout",
     "output_type": "stream",
     "text": [
      "Ayalan\n",
      "Billü\n",
      "Ergen\n",
      "Gülen\n",
      "Abdülhan\n",
      "Aytan\n",
      "Güncan\n",
      "Berkal\n",
      "Günsel\n",
      "Sala\n",
      "Kayaman\n",
      "Sara\n",
      "Sunak\n",
      "Tekiye\n",
      "Urukay\n",
      "Arak\n",
      "Ergin\n",
      "Seven\n",
      "Berkan\n",
      "Nursan\n"
     ]
    }
   ],
   "source": [
    "for i in range(20):\n",
    "    print(generate_name(rnn_turkish_name_generator, temperature=0.5))"
   ]
  },
  {
   "cell_type": "code",
   "execution_count": null,
   "metadata": {},
   "outputs": [],
   "source": []
  }
 ],
 "metadata": {
  "kernelspec": {
   "display_name": "deeplearning",
   "language": "python",
   "name": "python3"
  },
  "language_info": {
   "codemirror_mode": {
    "name": "ipython",
    "version": 3
   },
   "file_extension": ".py",
   "mimetype": "text/x-python",
   "name": "python",
   "nbconvert_exporter": "python",
   "pygments_lexer": "ipython3",
   "version": "3.11.4"
  }
 },
 "nbformat": 4,
 "nbformat_minor": 2
}
